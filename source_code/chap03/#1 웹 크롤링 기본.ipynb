{
 "cells": [
  {
   "cell_type": "code",
   "execution_count": 1,
   "metadata": {},
   "outputs": [],
   "source": [
    "#웹 크롤링을 쉽게 해주는 BeautifulSoup\n",
    "#크롤링: 웹 사이트의 HTML문서에서 필요한 정보를 수집하는 것\n",
    "#스크래이핑: 실제 HTML만을 이용해 수집하는 것(크롤링의 일종)\n",
    "\n",
    "#Anaconda 설치 시 BeautifulSoup 라이브러리가 자동으로 포함됨\n",
    "from bs4 import BeautifulSoup"
   ]
  },
  {
   "cell_type": "code",
   "execution_count": 3,
   "metadata": {},
   "outputs": [
    {
     "name": "stdout",
     "output_type": "stream",
     "text": [
      "<!DOCTYPE html>\n",
      "<html>\n",
      " <head>\n",
      "  <title>\n",
      "   Very Simple HTML Code by PinkWink\n",
      "  </title>\n",
      " </head>\n",
      " <body>\n",
      "  <div>\n",
      "   <p class=\"inner-text first-item\" id=\"first\">\n",
      "    Happy PinkWink.\n",
      "    <a href=\"http://www.pinkwink.kr\" id=\"pw-link\">\n",
      "     PinkWink\n",
      "    </a>\n",
      "   </p>\n",
      "   <p class=\"inner-text second-item\">\n",
      "    Happy Data Science.\n",
      "    <a href=\"https://www.python.org\" id=\"py-link\">\n",
      "     Python\n",
      "    </a>\n",
      "   </p>\n",
      "  </div>\n",
      "  <p class=\"outer-text first-item\" id=\"second\">\n",
      "   <b>\n",
      "    Data Science is funny.\n",
      "   </b>\n",
      "  </p>\n",
      "  <p class=\"outer-text\">\n",
      "   <b>\n",
      "    All I need is Love.\n",
      "   </b>\n",
      "  </p>\n",
      " </body>\n",
      "</html>\n"
     ]
    }
   ],
   "source": [
    "#test_first.html 파일을 읽기 모드로 읽어서\n",
    "page=open('../../data/03. test_first.html','r').read()\n",
    "\n",
    "#BeautifulSoup 객체 현태로 만든다.(html형태 적용-html.parser)\n",
    "soup=BeautifulSoup(page,'html.parser')\n",
    "\n",
    "#BeautifulSoup 객체가 읽어들인 html모델을 예쁘게 표시하기\n",
    "print(soup.prettify())"
   ]
  },
  {
   "cell_type": "code",
   "execution_count": 4,
   "metadata": {},
   "outputs": [
    {
     "data": {
      "text/plain": [
       "['html', '\\n', <html>\n",
       " <head>\n",
       " <title>Very Simple HTML Code by PinkWink</title>\n",
       " </head>\n",
       " <body>\n",
       " <div>\n",
       " <p class=\"inner-text first-item\" id=\"first\">\n",
       "                 Happy PinkWink.\n",
       "                 <a href=\"http://www.pinkwink.kr\" id=\"pw-link\">PinkWink</a>\n",
       " </p>\n",
       " <p class=\"inner-text second-item\">\n",
       "                 Happy Data Science.\n",
       "                 <a href=\"https://www.python.org\" id=\"py-link\">Python</a>\n",
       " </p>\n",
       " </div>\n",
       " <p class=\"outer-text first-item\" id=\"second\">\n",
       " <b>\n",
       "                 Data Science is funny.\n",
       "             </b>\n",
       " </p>\n",
       " <p class=\"outer-text\">\n",
       " <b>\n",
       "                 All I need is Love.\n",
       "             </b>\n",
       " </p>\n",
       " </body>\n",
       " </html>]"
      ]
     },
     "execution_count": 4,
     "metadata": {},
     "output_type": "execute_result"
    }
   ],
   "source": [
    "list(soup.children)"
   ]
  },
  {
   "cell_type": "code",
   "execution_count": 5,
   "metadata": {},
   "outputs": [
    {
     "data": {
      "text/plain": [
       "<html>\n",
       "<head>\n",
       "<title>Very Simple HTML Code by PinkWink</title>\n",
       "</head>\n",
       "<body>\n",
       "<div>\n",
       "<p class=\"inner-text first-item\" id=\"first\">\n",
       "                Happy PinkWink.\n",
       "                <a href=\"http://www.pinkwink.kr\" id=\"pw-link\">PinkWink</a>\n",
       "</p>\n",
       "<p class=\"inner-text second-item\">\n",
       "                Happy Data Science.\n",
       "                <a href=\"https://www.python.org\" id=\"py-link\">Python</a>\n",
       "</p>\n",
       "</div>\n",
       "<p class=\"outer-text first-item\" id=\"second\">\n",
       "<b>\n",
       "                Data Science is funny.\n",
       "            </b>\n",
       "</p>\n",
       "<p class=\"outer-text\">\n",
       "<b>\n",
       "                All I need is Love.\n",
       "            </b>\n",
       "</p>\n",
       "</body>\n",
       "</html>"
      ]
     },
     "execution_count": 5,
     "metadata": {},
     "output_type": "execute_result"
    }
   ],
   "source": [
    "html=list(soup.children)[2]\n",
    "html"
   ]
  },
  {
   "cell_type": "code",
   "execution_count": 6,
   "metadata": {},
   "outputs": [
    {
     "data": {
      "text/plain": [
       "['\\n', <head>\n",
       " <title>Very Simple HTML Code by PinkWink</title>\n",
       " </head>, '\\n', <body>\n",
       " <div>\n",
       " <p class=\"inner-text first-item\" id=\"first\">\n",
       "                 Happy PinkWink.\n",
       "                 <a href=\"http://www.pinkwink.kr\" id=\"pw-link\">PinkWink</a>\n",
       " </p>\n",
       " <p class=\"inner-text second-item\">\n",
       "                 Happy Data Science.\n",
       "                 <a href=\"https://www.python.org\" id=\"py-link\">Python</a>\n",
       " </p>\n",
       " </div>\n",
       " <p class=\"outer-text first-item\" id=\"second\">\n",
       " <b>\n",
       "                 Data Science is funny.\n",
       "             </b>\n",
       " </p>\n",
       " <p class=\"outer-text\">\n",
       " <b>\n",
       "                 All I need is Love.\n",
       "             </b>\n",
       " </p>\n",
       " </body>, '\\n']"
      ]
     },
     "execution_count": 6,
     "metadata": {},
     "output_type": "execute_result"
    }
   ],
   "source": [
    "list(html.children)"
   ]
  },
  {
   "cell_type": "code",
   "execution_count": 7,
   "metadata": {},
   "outputs": [
    {
     "data": {
      "text/plain": [
       "<body>\n",
       "<div>\n",
       "<p class=\"inner-text first-item\" id=\"first\">\n",
       "                Happy PinkWink.\n",
       "                <a href=\"http://www.pinkwink.kr\" id=\"pw-link\">PinkWink</a>\n",
       "</p>\n",
       "<p class=\"inner-text second-item\">\n",
       "                Happy Data Science.\n",
       "                <a href=\"https://www.python.org\" id=\"py-link\">Python</a>\n",
       "</p>\n",
       "</div>\n",
       "<p class=\"outer-text first-item\" id=\"second\">\n",
       "<b>\n",
       "                Data Science is funny.\n",
       "            </b>\n",
       "</p>\n",
       "<p class=\"outer-text\">\n",
       "<b>\n",
       "                All I need is Love.\n",
       "            </b>\n",
       "</p>\n",
       "</body>"
      ]
     },
     "execution_count": 7,
     "metadata": {},
     "output_type": "execute_result"
    }
   ],
   "source": [
    "body=list(html.children)[3]\n",
    "body"
   ]
  },
  {
   "cell_type": "code",
   "execution_count": 8,
   "metadata": {},
   "outputs": [
    {
     "data": {
      "text/plain": [
       "<body>\n",
       "<div>\n",
       "<p class=\"inner-text first-item\" id=\"first\">\n",
       "                Happy PinkWink.\n",
       "                <a href=\"http://www.pinkwink.kr\" id=\"pw-link\">PinkWink</a>\n",
       "</p>\n",
       "<p class=\"inner-text second-item\">\n",
       "                Happy Data Science.\n",
       "                <a href=\"https://www.python.org\" id=\"py-link\">Python</a>\n",
       "</p>\n",
       "</div>\n",
       "<p class=\"outer-text first-item\" id=\"second\">\n",
       "<b>\n",
       "                Data Science is funny.\n",
       "            </b>\n",
       "</p>\n",
       "<p class=\"outer-text\">\n",
       "<b>\n",
       "                All I need is Love.\n",
       "            </b>\n",
       "</p>\n",
       "</body>"
      ]
     },
     "execution_count": 8,
     "metadata": {},
     "output_type": "execute_result"
    }
   ],
   "source": [
    "soup.body"
   ]
  },
  {
   "cell_type": "code",
   "execution_count": 9,
   "metadata": {},
   "outputs": [
    {
     "data": {
      "text/plain": [
       "['\\n', <div>\n",
       " <p class=\"inner-text first-item\" id=\"first\">\n",
       "                 Happy PinkWink.\n",
       "                 <a href=\"http://www.pinkwink.kr\" id=\"pw-link\">PinkWink</a>\n",
       " </p>\n",
       " <p class=\"inner-text second-item\">\n",
       "                 Happy Data Science.\n",
       "                 <a href=\"https://www.python.org\" id=\"py-link\">Python</a>\n",
       " </p>\n",
       " </div>, '\\n', <p class=\"outer-text first-item\" id=\"second\">\n",
       " <b>\n",
       "                 Data Science is funny.\n",
       "             </b>\n",
       " </p>, '\\n', <p class=\"outer-text\">\n",
       " <b>\n",
       "                 All I need is Love.\n",
       "             </b>\n",
       " </p>, '\\n']"
      ]
     },
     "execution_count": 9,
     "metadata": {},
     "output_type": "execute_result"
    }
   ],
   "source": [
    "list(body.children)"
   ]
  },
  {
   "cell_type": "code",
   "execution_count": 10,
   "metadata": {},
   "outputs": [
    {
     "data": {
      "text/plain": [
       "[<p class=\"inner-text first-item\" id=\"first\">\n",
       "                 Happy PinkWink.\n",
       "                 <a href=\"http://www.pinkwink.kr\" id=\"pw-link\">PinkWink</a>\n",
       " </p>, <p class=\"inner-text second-item\">\n",
       "                 Happy Data Science.\n",
       "                 <a href=\"https://www.python.org\" id=\"py-link\">Python</a>\n",
       " </p>, <p class=\"outer-text first-item\" id=\"second\">\n",
       " <b>\n",
       "                 Data Science is funny.\n",
       "             </b>\n",
       " </p>, <p class=\"outer-text\">\n",
       " <b>\n",
       "                 All I need is Love.\n",
       "             </b>\n",
       " </p>]"
      ]
     },
     "execution_count": 10,
     "metadata": {},
     "output_type": "execute_result"
    }
   ],
   "source": [
    "#전체 문서에서 p 태그 찾기\n",
    "soup.find_all('p') # find_all 전체 탐색!!! find() -->제일 처음 등장하는 태그1개만"
   ]
  },
  {
   "cell_type": "code",
   "execution_count": 11,
   "metadata": {},
   "outputs": [
    {
     "data": {
      "text/plain": [
       "<p class=\"inner-text first-item\" id=\"first\">\n",
       "                Happy PinkWink.\n",
       "                <a href=\"http://www.pinkwink.kr\" id=\"pw-link\">PinkWink</a>\n",
       "</p>"
      ]
     },
     "execution_count": 11,
     "metadata": {},
     "output_type": "execute_result"
    }
   ],
   "source": [
    "soup.find('p')"
   ]
  },
  {
   "cell_type": "code",
   "execution_count": 12,
   "metadata": {},
   "outputs": [
    {
     "data": {
      "text/plain": [
       "[<p class=\"outer-text first-item\" id=\"second\">\n",
       " <b>\n",
       "                 Data Science is funny.\n",
       "             </b>\n",
       " </p>, <p class=\"outer-text\">\n",
       " <b>\n",
       "                 All I need is Love.\n",
       "             </b>\n",
       " </p>]"
      ]
     },
     "execution_count": 12,
     "metadata": {},
     "output_type": "execute_result"
    }
   ],
   "source": [
    "#class 는 기본적으로 파이썬에서 사용하는 키워드이기 때문에\n",
    "#html attribute 구분을 위해 뒤에 _ 을 붙여준다. --> class_ 로 사용\n",
    "soup.find_all('p', class_='outer-text')"
   ]
  },
  {
   "cell_type": "code",
   "execution_count": 13,
   "metadata": {},
   "outputs": [
    {
     "data": {
      "text/plain": [
       "[<p class=\"inner-text first-item\" id=\"first\">\n",
       "                 Happy PinkWink.\n",
       "                 <a href=\"http://www.pinkwink.kr\" id=\"pw-link\">PinkWink</a>\n",
       " </p>]"
      ]
     },
     "execution_count": 13,
     "metadata": {},
     "output_type": "execute_result"
    }
   ],
   "source": [
    "#id 속성이 first 엘리먼트를 모두 찾아내라\n",
    "soup.find_all(id='first')"
   ]
  },
  {
   "cell_type": "code",
   "execution_count": 14,
   "metadata": {},
   "outputs": [
    {
     "data": {
      "text/plain": [
       "<head>\n",
       "<title>Very Simple HTML Code by PinkWink</title>\n",
       "</head>"
      ]
     },
     "execution_count": 14,
     "metadata": {},
     "output_type": "execute_result"
    }
   ],
   "source": [
    "soup.head"
   ]
  },
  {
   "cell_type": "code",
   "execution_count": 15,
   "metadata": {},
   "outputs": [
    {
     "data": {
      "text/plain": [
       "'\\n'"
      ]
     },
     "execution_count": 15,
     "metadata": {},
     "output_type": "execute_result"
    }
   ],
   "source": [
    "head=soup.head\n",
    "head.next_sibling"
   ]
  },
  {
   "cell_type": "code",
   "execution_count": 16,
   "metadata": {},
   "outputs": [
    {
     "data": {
      "text/plain": [
       "<body>\n",
       "<div>\n",
       "<p class=\"inner-text first-item\" id=\"first\">\n",
       "                Happy PinkWink.\n",
       "                <a href=\"http://www.pinkwink.kr\" id=\"pw-link\">PinkWink</a>\n",
       "</p>\n",
       "<p class=\"inner-text second-item\">\n",
       "                Happy Data Science.\n",
       "                <a href=\"https://www.python.org\" id=\"py-link\">Python</a>\n",
       "</p>\n",
       "</div>\n",
       "<p class=\"outer-text first-item\" id=\"second\">\n",
       "<b>\n",
       "                Data Science is funny.\n",
       "            </b>\n",
       "</p>\n",
       "<p class=\"outer-text\">\n",
       "<b>\n",
       "                All I need is Love.\n",
       "            </b>\n",
       "</p>\n",
       "</body>"
      ]
     },
     "execution_count": 16,
     "metadata": {},
     "output_type": "execute_result"
    }
   ],
   "source": [
    "head.next_sibling.next_sibling"
   ]
  },
  {
   "cell_type": "code",
   "execution_count": 17,
   "metadata": {},
   "outputs": [
    {
     "data": {
      "text/plain": [
       "<p class=\"inner-text first-item\" id=\"first\">\n",
       "                Happy PinkWink.\n",
       "                <a href=\"http://www.pinkwink.kr\" id=\"pw-link\">PinkWink</a>\n",
       "</p>"
      ]
     },
     "execution_count": 17,
     "metadata": {},
     "output_type": "execute_result"
    }
   ],
   "source": [
    "body.p"
   ]
  },
  {
   "cell_type": "code",
   "execution_count": 18,
   "metadata": {},
   "outputs": [
    {
     "data": {
      "text/plain": [
       "<p class=\"inner-text second-item\">\n",
       "                Happy Data Science.\n",
       "                <a href=\"https://www.python.org\" id=\"py-link\">Python</a>\n",
       "</p>"
      ]
     },
     "execution_count": 18,
     "metadata": {},
     "output_type": "execute_result"
    }
   ],
   "source": [
    "body.p.next_sibling.next_sibling"
   ]
  },
  {
   "cell_type": "code",
   "execution_count": 19,
   "metadata": {},
   "outputs": [
    {
     "name": "stdout",
     "output_type": "stream",
     "text": [
      "\n",
      "                Happy PinkWink.\n",
      "                PinkWink\n",
      "\n",
      "\n",
      "                Happy Data Science.\n",
      "                Python\n",
      "\n",
      "\n",
      "\n",
      "                Data Science is funny.\n",
      "            \n",
      "\n",
      "\n",
      "\n",
      "                All I need is Love.\n",
      "            \n",
      "\n"
     ]
    }
   ],
   "source": [
    "for each_tag in soup.find_all('p'):\n",
    "    print(each_tag.get_text()) # get_text 함수로 텍스트 가져오기"
   ]
  },
  {
   "cell_type": "code",
   "execution_count": 20,
   "metadata": {},
   "outputs": [
    {
     "data": {
      "text/plain": [
       "'\\n\\n\\n                Happy PinkWink.\\n                PinkWink\\n\\n\\n                Happy Data Science.\\n                Python\\n\\n\\n\\n\\n                Data Science is funny.\\n            \\n\\n\\n\\n                All I need is Love.\\n            \\n\\n'"
      ]
     },
     "execution_count": 20,
     "metadata": {},
     "output_type": "execute_result"
    }
   ],
   "source": [
    "body.get_text()"
   ]
  },
  {
   "cell_type": "code",
   "execution_count": 24,
   "metadata": {},
   "outputs": [
    {
     "data": {
      "text/plain": [
       "[<a href=\"http://www.pinkwink.kr\" id=\"pw-link\">PinkWink</a>,\n",
       " <a href=\"https://www.python.org\" id=\"py-link\">Python</a>]"
      ]
     },
     "execution_count": 24,
     "metadata": {},
     "output_type": "execute_result"
    }
   ],
   "source": [
    "links=soup.find_all('a')\n",
    "links"
   ]
  },
  {
   "cell_type": "code",
   "execution_count": 25,
   "metadata": {},
   "outputs": [
    {
     "name": "stdout",
     "output_type": "stream",
     "text": [
      "PinkWink\n",
      "Python\n"
     ]
    }
   ],
   "source": [
    "for link in links:\n",
    "    print(link.text)"
   ]
  },
  {
   "cell_type": "code",
   "execution_count": 28,
   "metadata": {},
   "outputs": [
    {
     "name": "stdout",
     "output_type": "stream",
     "text": [
      "PinkWink -> http://www.pinkwink.kr\n",
      "Python -> https://www.python.org\n"
     ]
    }
   ],
   "source": [
    "for link in links:\n",
    "    href = link['href'] #링크(a 태그)의 href 속성 선택\n",
    "    text = link.text\n",
    "    print(text + ' -> ' + href)"
   ]
  },
  {
   "cell_type": "code",
   "execution_count": 63,
   "metadata": {},
   "outputs": [
    {
     "data": {
      "text/plain": [
       "[<span class=\"blind\">미국 USD</span>,\n",
       " <span class=\"blind\">원</span>,\n",
       " <span class=\"blind\">하락</span>,\n",
       " <span class=\"blind\">일본 JPY(100엔)</span>,\n",
       " <span class=\"blind\">원</span>,\n",
       " <span class=\"blind\">상승</span>,\n",
       " <span class=\"blind\">유럽연합 EUR</span>,\n",
       " <span class=\"blind\">원</span>,\n",
       " <span class=\"blind\">상승</span>,\n",
       " <span class=\"blind\">중국 CNY</span>,\n",
       " <span class=\"blind\">원</span>,\n",
       " <span class=\"blind\">하락</span>,\n",
       " <span class=\"blind\">일본 엔/달러</span>,\n",
       " <span class=\"blind\">엔</span>,\n",
       " <span class=\"blind\">하락</span>,\n",
       " <span class=\"blind\">달러/유로</span>,\n",
       " <span class=\"blind\">달러</span>,\n",
       " <span class=\"blind\">상승</span>,\n",
       " <span class=\"blind\">달러/영국파운드</span>,\n",
       " <span class=\"blind\">달러</span>,\n",
       " <span class=\"blind\">상승</span>,\n",
       " <span class=\"blind\">달러인덱스</span>,\n",
       " <span class=\"blind\">하락</span>,\n",
       " <span class=\"blind\">WTI</span>,\n",
       " <span class=\"blind\">달러</span>,\n",
       " <span class=\"blind\">하락</span>,\n",
       " <span class=\"blind\">휘발유</span>,\n",
       " <span class=\"blind\">원</span>,\n",
       " <span class=\"blind\">하락</span>,\n",
       " <span class=\"blind\">국제 금</span>,\n",
       " <span class=\"blind\">달러</span>,\n",
       " <span class=\"blind\">하락</span>,\n",
       " <span class=\"blind\">국내 금</span>,\n",
       " <span class=\"blind\">원</span>,\n",
       " <span class=\"blind\">상승</span>,\n",
       " <h2 class=\"blind\">환전고시 환율</h2>,\n",
       " <h3 class=\"blind\" id=\"exchange1\">환전 고시 환율</h3>,\n",
       " <h3 class=\"blind\">최근검색</h3>]"
      ]
     },
     "execution_count": 63,
     "metadata": {},
     "output_type": "execute_result"
    }
   ],
   "source": [
    "from urllib.request import urlopen\n",
    "\n",
    "page = urlopen('http://info.finance.naver.com/marketindex') #url의 페이지(html) 불러오기\n",
    "\n",
    "soup = BeautifulSoup(page, 'html.parser')\n",
    "\n",
    "body=list(soup.children)[7]\n",
    "# body\n",
    "# body.find_all(class_='blind')\n",
    "# body.find_all(class_='value')\n",
    "# body.find_all(class_='change')\n",
    "body.find_all(class_='blind')\n",
    "# print(soup.prettify())"
   ]
  },
  {
   "cell_type": "code",
   "execution_count": 64,
   "metadata": {},
   "outputs": [],
   "source": [
    "usa=body.find_all(class_='blind')[0].get_text()\n",
    "usa1=body.find_all(class_='value')[0].get_text()\n",
    "usa2=body.find_all(class_='change')[0].get_text()\n",
    "usa3=body.find_all(class_='blind')[2].get_text()\n",
    "\n",
    "japan=body.find_all(class_='blind')[3].get_text()\n",
    "japan1=body.find_all(class_='value')[1].get_text()\n",
    "japan2=body.find_all(class_='change')[1].get_text()\n",
    "japan3=body.find_all(class_='blind')[5].get_text()\n",
    "\n",
    "eu=body.find_all(class_='blind')[6].get_text()\n",
    "eu1=body.find_all(class_='value')[2].get_text()\n",
    "eu2=body.find_all(class_='change')[2].get_text()\n",
    "eu3=body.find_all(class_='blind')[8].get_text()\n",
    "\n",
    "china=body.find_all(class_='blind')[9].get_text()\n",
    "china1=body.find_all(class_='value')[3].get_text()\n",
    "china2=body.find_all(class_='change')[3].get_text()\n",
    "china3=body.find_all(class_='blind')[11].get_text()"
   ]
  },
  {
   "cell_type": "code",
   "execution_count": 65,
   "metadata": {},
   "outputs": [
    {
     "name": "stdout",
     "output_type": "stream",
     "text": [
      "국가 --> 미국 USD\n",
      "환율 --> 1,066.10\n",
      "변경값 -->  1.40\n",
      "상승하락 --> 하락\n",
      "국가 --> 일본 JPY(100엔)\n",
      "환율 --> 1,001.93\n",
      "변경값 --> 0.62\n",
      "상승하락 --> 상승\n",
      "국가 --> 유럽연합 EUR\n",
      "환율 --> 1,314.98\n",
      "변경값 --> 2.60\n",
      "상승하락 --> 상승\n",
      "국가 --> 중국 CNY\n",
      "환율 --> 168.65\n",
      "변경값 -->  0.02\n",
      "상승하락 --> 하락\n"
     ]
    }
   ],
   "source": [
    "print('국가' + ' --> ' + usa)\n",
    "print('환율' + ' --> ' + usa1)\n",
    "print('변경값' + ' --> ' + usa2)\n",
    "print('상승하락' + ' --> ' + usa3)\n",
    "\n",
    "print('국가' + ' --> ' + japan)\n",
    "print('환율' + ' --> ' + japan1)\n",
    "print('변경값' + ' --> ' + japan2)\n",
    "print('상승하락' + ' --> ' + japan3)\n",
    "\n",
    "print('국가' + ' --> ' + eu)\n",
    "print('환율' + ' --> ' + eu1)\n",
    "print('변경값' + ' --> ' + eu2)\n",
    "print('상승하락' + ' --> ' + eu3)\n",
    "\n",
    "print('국가' + ' --> ' + china)\n",
    "print('환율' + ' --> ' + china1)\n",
    "print('변경값' + ' --> ' + china2)\n",
    "print('상승하락' + ' --> ' + china3)"
   ]
  },
  {
   "cell_type": "code",
   "execution_count": 67,
   "metadata": {},
   "outputs": [
    {
     "data": {
      "text/plain": [
       "<a class=\"head usd\" href=\"/marketindex/exchangeDetail.nhn?marketindexCd=FX_USDKRW\" onclick=\"clickcr(this, 'fr1.usdt', '', '', event);\">\n",
       "<h3 class=\"h_lst\"><span class=\"blind\">미국 USD</span></h3>\n",
       "<div class=\"head_info point_dn\">\n",
       "<span class=\"value\">1,066.10</span>\n",
       "<span class=\"txt_krw\"><span class=\"blind\">원</span></span>\n",
       "<span class=\"change\"> 1.40</span>\n",
       "<span class=\"blind\">하락</span>\n",
       "</div>\n",
       "</a>"
      ]
     },
     "execution_count": 67,
     "metadata": {},
     "output_type": "execute_result"
    }
   ],
   "source": [
    "usd = soup.find('a', class_='usd')\n",
    "usd"
   ]
  },
  {
   "cell_type": "code",
   "execution_count": 69,
   "metadata": {},
   "outputs": [
    {
     "data": {
      "text/plain": [
       "<a class=\"head usd\" href=\"/marketindex/exchangeDetail.nhn?marketindexCd=FX_USDKRW\" onclick=\"clickcr(this, 'fr1.usdt', '', '', event);\">\n",
       "<h3 class=\"h_lst\"><span class=\"blind\">미국 USD</span></h3>\n",
       "<div class=\"head_info point_dn\">\n",
       "<span class=\"value\">1,066.10</span>\n",
       "<span class=\"txt_krw\"><span class=\"blind\">원</span></span>\n",
       "<span class=\"change\"> 1.40</span>\n",
       "<span class=\"blind\">하락</span>\n",
       "</div>\n",
       "</a>"
      ]
     },
     "execution_count": 69,
     "metadata": {},
     "output_type": "execute_result"
    }
   ],
   "source": [
    "jpy=soup.find('a', class_='usd')\n",
    "jpy"
   ]
  },
  {
   "cell_type": "code",
   "execution_count": 72,
   "metadata": {},
   "outputs": [
    {
     "data": {
      "text/plain": [
       "['\\n', <li class=\"on\">\n",
       " <a class=\"head usd\" href=\"/marketindex/exchangeDetail.nhn?marketindexCd=FX_USDKRW\" onclick=\"clickcr(this, 'fr1.usdt', '', '', event);\">\n",
       " <h3 class=\"h_lst\"><span class=\"blind\">미국 USD</span></h3>\n",
       " <div class=\"head_info point_dn\">\n",
       " <span class=\"value\">1,066.10</span>\n",
       " <span class=\"txt_krw\"><span class=\"blind\">원</span></span>\n",
       " <span class=\"change\"> 1.40</span>\n",
       " <span class=\"blind\">하락</span>\n",
       " </div>\n",
       " </a>\n",
       " <a class=\"graph_img\" href=\"/marketindex/exchangeDetail.nhn?marketindexCd=FX_USDKRW\" onclick=\"clickcr(this, 'fr1.usdc', '', '', event);\">\n",
       " <img alt=\"\" height=\"153\" src=\"http://imgfinance.naver.net/chart/marketindex/FX_USDKRW.png\" width=\"295\"/>\n",
       " </a>\n",
       " <div class=\"graph_info\">\n",
       " <span class=\"time\">2018.03.13 11:46</span>\n",
       " <span class=\"source\">KEB하나은행 기준</span>\n",
       " <span class=\"count\">고시회차<span class=\"num\">094</span>회</span>\n",
       " </div>\n",
       " </li>, '\\n', <li class=\"\">\n",
       " <a class=\"head jpy\" href=\"/marketindex/exchangeDetail.nhn?marketindexCd=FX_JPYKRW\" onclick=\"clickcr(this, 'fr1.jpyt', '', '', event);\">\n",
       " <h3 class=\"h_lst\"><span class=\"blind\">일본 JPY(100엔)</span></h3>\n",
       " <div class=\"head_info point_up\">\n",
       " <span class=\"value\">1,001.93</span>\n",
       " <span class=\"txt_krw\"><span class=\"blind\">원</span></span>\n",
       " <span class=\"change\">0.62</span>\n",
       " <span class=\"blind\">상승</span>\n",
       " </div>\n",
       " </a>\n",
       " <a class=\"graph_img\" href=\"/marketindex/exchangeDetail.nhn?marketindexCd=FX_JPYKRW\" onclick=\"clickcr(this, 'fr1.jpyc', '', '', event);\">\n",
       " <img alt=\"\" height=\"153\" src=\"http://imgfinance.naver.net/chart/marketindex/FX_JPYKRW.png\" width=\"295\"/>\n",
       " </a>\n",
       " <div class=\"graph_info\">\n",
       " <span class=\"time\">2018.03.13 11:46</span>\n",
       " <span class=\"source\">KEB하나은행 기준</span>\n",
       " <span class=\"count\">고시회차<span class=\"num\">094</span>회</span>\n",
       " </div>\n",
       " </li>, '\\n', <li class=\"\">\n",
       " <a class=\"head eur\" href=\"/marketindex/exchangeDetail.nhn?marketindexCd=FX_EURKRW\" onclick=\"clickcr(this, 'fr1.eurt', '', '', event);\">\n",
       " <h3 class=\"h_lst\"><span class=\"blind\">유럽연합 EUR</span></h3>\n",
       " <div class=\"head_info point_up\">\n",
       " <span class=\"value\">1,314.98</span>\n",
       " <span class=\"txt_krw\"><span class=\"blind\">원</span></span>\n",
       " <span class=\"change\">2.60</span>\n",
       " <span class=\"blind\">상승</span>\n",
       " </div>\n",
       " </a>\n",
       " <a class=\"graph_img\" href=\"/marketindex/exchangeDetail.nhn?marketindexCd=FX_EURKRW\" onclick=\"clickcr(this, 'fr1.eurc', '', '', event);\">\n",
       " <img alt=\"\" height=\"153\" src=\"http://imgfinance.naver.net/chart/marketindex/FX_EURKRW.png\" width=\"295\"/>\n",
       " </a>\n",
       " <div class=\"graph_info\">\n",
       " <span class=\"time\">2018.03.13 11:46</span>\n",
       " <span class=\"source\">KEB하나은행 기준</span>\n",
       " <span class=\"count\">고시회차<span class=\"num\">094</span>회</span>\n",
       " </div>\n",
       " </li>, '\\n', <li class=\"\">\n",
       " <a class=\"head cny\" href=\"/marketindex/exchangeDetail.nhn?marketindexCd=FX_CNYKRW\" onclick=\"clickcr(this, 'fr1.cnyt', '', '', event);\">\n",
       " <h3 class=\"h_lst\"><span class=\"blind\">중국 CNY</span></h3>\n",
       " <div class=\"head_info point_dn\">\n",
       " <span class=\"value\">168.65</span>\n",
       " <span class=\"txt_krw\"><span class=\"blind\">원</span></span>\n",
       " <span class=\"change\"> 0.02</span>\n",
       " <span class=\"blind\">하락</span>\n",
       " </div>\n",
       " </a>\n",
       " <a class=\"graph_img\" href=\"/marketindex/exchangeDetail.nhn?marketindexCd=FX_CNYKRW\" onclick=\"clickcr(this, 'fr1.cnyc', '', '', event);\">\n",
       " <img alt=\"\" height=\"153\" src=\"http://imgfinance.naver.net/chart/marketindex/FX_CNYKRW.png\" width=\"295\"/>\n",
       " </a>\n",
       " <div class=\"graph_info\">\n",
       " <span class=\"time\">2018.03.13 11:46</span>\n",
       " <span class=\"source\">KEB하나은행 기준</span>\n",
       " <span class=\"count\">고시회차<span class=\"num\">094</span>회</span>\n",
       " </div>\n",
       " </li>, '\\n']"
      ]
     },
     "execution_count": 72,
     "metadata": {},
     "output_type": "execute_result"
    }
   ],
   "source": [
    "ex_list=list(soup.find(id='exchangeList'))\n",
    "ex_list"
   ]
  },
  {
   "cell_type": "code",
   "execution_count": 91,
   "metadata": {},
   "outputs": [
    {
     "name": "stdout",
     "output_type": "stream",
     "text": [
      "국가 ->  미국 USD\n",
      "환율 ->  1,066.10\n",
      "변경값 ->   1.40\n",
      "변경종류 ->  하락\n",
      "\n",
      "국가 ->  일본 JPY(100엔)\n",
      "환율 ->  1,001.93\n",
      "변경값 ->  0.62\n",
      "변경종류 ->  상승\n",
      "\n",
      "국가 ->  유럽연합 EUR\n",
      "환율 ->  1,314.98\n",
      "변경값 ->  2.60\n",
      "변경종류 ->  상승\n",
      "\n",
      "국가 ->  중국 CNY\n",
      "환율 ->  168.65\n",
      "변경값 ->   0.02\n",
      "변경종류 ->  하락\n",
      "\n"
     ]
    }
   ],
   "source": [
    "finances=soup.find(id='exchangeList').find_all('a',class_='head')\n",
    "\n",
    "countries = []\n",
    "values = []\n",
    "changes = []\n",
    "updowns = []\n",
    "\n",
    "for finance in finances:\n",
    "    country = finance.find_all('span', class_='blind')[0].text\n",
    "    value = finance.find('span', class_='value').text\n",
    "    change = finance.find('span', class_='change').text\n",
    "    updown = finance.find_all('span', class_='blind')[2].text\n",
    "    \n",
    "    print('국가 -> ', country)\n",
    "    print('환율 -> ', value)\n",
    "    print('변경값 -> ', change)\n",
    "    print('변경종류 -> ', updown)\n",
    "    print()\n",
    "    \n",
    "    countries.append(country)\n",
    "    values.append(value)\n",
    "    changes.append(change)\n",
    "    updowns.append(updown)\n",
    "    \n",
    "finance_dict = {'국가': countries,\n",
    "                '환율': values,\n",
    "                '변경값': changes,\n",
    "                '변경종류': updowns}"
   ]
  },
  {
   "cell_type": "code",
   "execution_count": 81,
   "metadata": {},
   "outputs": [
    {
     "name": "stdout",
     "output_type": "stream",
     "text": [
      "국가 ->  미국 USD\n",
      "환율 ->  1,066.10\n",
      "변경값 ->   1.40\n",
      "변경종류 ->  하락\n",
      "\n",
      "국가 ->  일본 JPY(100엔)\n",
      "환율 ->  1,001.93\n",
      "변경값 ->  0.62\n",
      "변경종류 ->  상승\n",
      "\n",
      "국가 ->  유럽연합 EUR\n",
      "환율 ->  1,314.98\n",
      "변경값 ->  2.60\n",
      "변경종류 ->  상승\n",
      "\n",
      "국가 ->  중국 CNY\n",
      "환율 ->  168.65\n",
      "변경값 ->   0.02\n",
      "변경종류 ->  하락\n",
      "\n"
     ]
    }
   ],
   "source": [
    "for each_ex_rate in ex_list:\n",
    "    if each_ex_rate != '\\n':\n",
    "        print('국가 -> ', each_ex_rate.find('span').get_text())\n",
    "        print('환율 -> ', each_ex_rate.find(class_='value').get_text())\n",
    "        print('변경값 -> ', each_ex_rate.find(class_='change').get_text())\n",
    "        print('변경종류 -> ', each_ex_rate.find_all(class_='blind')[-1].get_text())\n",
    "        print()"
   ]
  },
  {
   "cell_type": "code",
   "execution_count": 92,
   "metadata": {},
   "outputs": [
    {
     "data": {
      "text/html": [
       "<div>\n",
       "<style scoped>\n",
       "    .dataframe tbody tr th:only-of-type {\n",
       "        vertical-align: middle;\n",
       "    }\n",
       "\n",
       "    .dataframe tbody tr th {\n",
       "        vertical-align: top;\n",
       "    }\n",
       "\n",
       "    .dataframe thead th {\n",
       "        text-align: right;\n",
       "    }\n",
       "</style>\n",
       "<table border=\"1\" class=\"dataframe\">\n",
       "  <thead>\n",
       "    <tr style=\"text-align: right;\">\n",
       "      <th></th>\n",
       "      <th>국가</th>\n",
       "      <th>변경값</th>\n",
       "      <th>변경종류</th>\n",
       "      <th>환율</th>\n",
       "    </tr>\n",
       "  </thead>\n",
       "  <tbody>\n",
       "    <tr>\n",
       "      <th>0</th>\n",
       "      <td>미국 USD</td>\n",
       "      <td>1.40</td>\n",
       "      <td>하락</td>\n",
       "      <td>1,066.10</td>\n",
       "    </tr>\n",
       "    <tr>\n",
       "      <th>1</th>\n",
       "      <td>일본 JPY(100엔)</td>\n",
       "      <td>0.62</td>\n",
       "      <td>상승</td>\n",
       "      <td>1,001.93</td>\n",
       "    </tr>\n",
       "    <tr>\n",
       "      <th>2</th>\n",
       "      <td>유럽연합 EUR</td>\n",
       "      <td>2.60</td>\n",
       "      <td>상승</td>\n",
       "      <td>1,314.98</td>\n",
       "    </tr>\n",
       "    <tr>\n",
       "      <th>3</th>\n",
       "      <td>중국 CNY</td>\n",
       "      <td>0.02</td>\n",
       "      <td>하락</td>\n",
       "      <td>168.65</td>\n",
       "    </tr>\n",
       "  </tbody>\n",
       "</table>\n",
       "</div>"
      ],
      "text/plain": [
       "             국가    변경값 변경종류        환율\n",
       "0        미국 USD   1.40   하락  1,066.10\n",
       "1  일본 JPY(100엔)   0.62   상승  1,001.93\n",
       "2      유럽연합 EUR   2.60   상승  1,314.98\n",
       "3        중국 CNY   0.02   하락    168.65"
      ]
     },
     "execution_count": 92,
     "metadata": {},
     "output_type": "execute_result"
    }
   ],
   "source": [
    "import pandas as pd\n",
    "\n",
    "df=pd.DataFrame(finance_dict)\n",
    "df"
   ]
  },
  {
   "cell_type": "code",
   "execution_count": 97,
   "metadata": {},
   "outputs": [
    {
     "data": {
      "text/plain": [
       "<p class=\"inner-text first-item\" id=\"first\">\n",
       "                Happy PinkWink.\n",
       "                <a href=\"http://www.pinkwink.kr\" id=\"pw-link\">PinkWink</a>\n",
       "</p>"
      ]
     },
     "execution_count": 97,
     "metadata": {},
     "output_type": "execute_result"
    }
   ],
   "source": [
    "page = open('../../data/03. test_first.html', 'r').read()\n",
    "soup = BeautifulSoup(page, 'html.parser')\n",
    "body= soup.body\n",
    "body.find('p', {'class':['inner_text','first-item']}) #두 개 이상의 클래스 요소 선택하기"
   ]
  },
  {
   "cell_type": "code",
   "execution_count": 96,
   "metadata": {},
   "outputs": [
    {
     "data": {
      "text/plain": [
       "<p class=\"inner-text first-item\" id=\"first\">\n",
       "                Happy PinkWink.\n",
       "                <a href=\"http://www.pinkwink.kr\" id=\"pw-link\">PinkWink</a>\n",
       "</p>"
      ]
     },
     "execution_count": 96,
     "metadata": {},
     "output_type": "execute_result"
    }
   ],
   "source": [
    "body.find('p',{'class':'first-item', 'id':'first'})"
   ]
  },
  {
   "cell_type": "code",
   "execution_count": null,
   "metadata": {},
   "outputs": [],
   "source": []
  },
  {
   "cell_type": "code",
   "execution_count": null,
   "metadata": {},
   "outputs": [],
   "source": []
  }
 ],
 "metadata": {
  "kernelspec": {
   "display_name": "Python 3",
   "language": "python",
   "name": "python3"
  },
  "language_info": {
   "codemirror_mode": {
    "name": "ipython",
    "version": 3
   },
   "file_extension": ".py",
   "mimetype": "text/x-python",
   "name": "python",
   "nbconvert_exporter": "python",
   "pygments_lexer": "ipython3",
   "version": "3.6.4"
  }
 },
 "nbformat": 4,
 "nbformat_minor": 2
}
